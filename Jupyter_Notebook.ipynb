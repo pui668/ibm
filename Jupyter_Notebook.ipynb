{
 "cells": [
  {
   "cell_type": "markdown",
   "metadata": {},
   "source": [
    "<center>\n",
    "    <img src=\"https://cf-courses-data.s3.us.cloud-object-storage.appdomain.cloud/IBMDeveloperSkillsNetwork-DS0105EN-SkillsNetwork/labs/Module2/images/SN_web_lightmode.png\" width=\"300\" alt=\"cognitiveclass.ai logo\">\n",
    "</center>\n"
   ]
  },
  {
   "cell_type": "markdown",
   "metadata": {
    "tags": []
   },
   "source": [
    "# Assignment (Ex. 2)"
   ]
  },
  {
   "cell_type": "markdown",
   "metadata": {},
   "source": [
    "Introduction (Ex. 3)"
   ]
  },
  {
   "cell_type": "markdown",
   "metadata": {},
   "source": [
    "Ex. 4\n",
    "1. Python\n",
    "2. R\n",
    "3. SQL\n",
    "4. Julia\n",
    "5. Scala\n",
    "6. SAS\n",
    "7. MATLAB\n",
    "8. Java\n",
    "9. C++\n",
    "10. Ruby"
   ]
  },
  {
   "cell_type": "markdown",
   "metadata": {},
   "source": [
    "Ex. 5\n",
    "1. NumPy\n",
    "2. pandas\n",
    "3. scikit-learn\n",
    "4. Matplotlib\n",
    "5. Seaborn\n",
    "6. TensorFlow\n",
    "7. PyTorch\n",
    "8. Keras\n",
    "9. SciPy\n",
    "10. Statsmodels\n",
    "11. NLTK\n",
    "12. gensim\n",
    "13. OpenCV\n",
    "14. Dask\n",
    "15. XGBoost"
   ]
  },
  {
   "cell_type": "markdown",
   "metadata": {},
   "source": [
    "Ex. 6\n",
    "| Tool           | Description                            |\n",
    "|----------------|----------------------------------------|\n",
    "| Jupyter Notebook | Interactive data analysis and visualization tool |\n",
    "| NumPy          | Numerical computing library for Python  |\n",
    "| pandas         | Data manipulation and analysis library for Python |\n",
    "| scikit-learn   | Machine learning library for Python    |\n",
    "| Matplotlib     | Data visualization library for Python  |\n",
    "| Seaborn        | Statistical data visualization library for Python |\n",
    "| TensorFlow     | Open-source machine learning framework |\n",
    "| PyTorch        | Deep learning framework for Python     |\n",
    "| Keras          | High-level neural networks API for Python |\n",
    "| Statsmodels    | Statistical modeling library for Python |\n",
    "| NLTK           | Natural Language Toolkit for text processing |\n",
    "| gensim         | Library for topic modeling and document similarity analysis |\n",
    "| OpenCV         | Computer vision library for image and video analysis |\n",
    "| Dask           | Parallel computing library for larger-than-memory computations |\n",
    "| XGBoost        | Gradient boosting library for machine learning |\n",
    "\n"
   ]
  },
  {
   "cell_type": "markdown",
   "metadata": {},
   "source": [
    "Ex. 7 \n",
    "Addition:\n",
    "5 + 3 = 8\n",
    "12 + 7 = 19\n",
    "\n",
    "Subtraction:\n",
    "10 - 4 = 6\n",
    "15 - 8 = 7\n",
    "\n",
    "Multiplication:\n",
    "6 * 4 = 24\n",
    "9 * 5 = 45\n",
    "\n",
    "Division:\n",
    "20 / 4 = 5\n",
    "16 / 2 = 8\n",
    "\n"
   ]
  },
  {
   "cell_type": "code",
   "execution_count": 7,
   "metadata": {
    "tags": []
   },
   "outputs": [
    {
     "data": {
      "text/plain": [
       "42"
      ]
     },
     "execution_count": 7,
     "metadata": {},
     "output_type": "execute_result"
    }
   ],
   "source": [
    "#Ex. 8\n",
    "6 + 6 * 6 \n"
   ]
  },
  {
   "cell_type": "code",
   "execution_count": 8,
   "metadata": {
    "tags": []
   },
   "outputs": [
    {
     "data": {
      "text/plain": [
       "4.0"
      ]
     },
     "execution_count": 8,
     "metadata": {},
     "output_type": "execute_result"
    }
   ],
   "source": [
    "#Ex. 9\n",
    "240 / 60"
   ]
  },
  {
   "cell_type": "markdown",
   "metadata": {},
   "source": [
    "Ex. 10\n",
    "To use Jupiter "
   ]
  },
  {
   "cell_type": "markdown",
   "metadata": {},
   "source": [
    "Ex. 11 Michelle"
   ]
  },
  {
   "cell_type": "code",
   "execution_count": null,
   "metadata": {},
   "outputs": [],
   "source": []
  }
 ],
 "metadata": {
  "kernelspec": {
   "display_name": "Python",
   "language": "python",
   "name": "conda-env-python-py"
  },
  "language_info": {
   "codemirror_mode": {
    "name": "ipython",
    "version": 3
   },
   "file_extension": ".py",
   "mimetype": "text/x-python",
   "name": "python",
   "nbconvert_exporter": "python",
   "pygments_lexer": "ipython3",
   "version": "3.7.12"
  }
 },
 "nbformat": 4,
 "nbformat_minor": 4
}
